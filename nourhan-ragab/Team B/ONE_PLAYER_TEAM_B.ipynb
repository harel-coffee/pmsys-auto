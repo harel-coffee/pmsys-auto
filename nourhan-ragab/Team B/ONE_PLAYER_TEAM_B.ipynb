{
 "cells": [
  {
   "cell_type": "code",
   "execution_count": 3,
   "id": "2409be0b",
   "metadata": {},
   "outputs": [
    {
     "name": "stdout",
     "output_type": "stream",
     "text": [
      "/Users/nourhr/Documents/pmsys-msc/host-pmsys/utils\n"
     ]
    }
   ],
   "source": [
    "%cd ../utils\n",
    "from framework_utils import *\n",
    "from data_utils import *\n",
    "%run framework_utils.py\n",
    "%run data_utils.py"
   ]
  },
  {
   "cell_type": "code",
   "execution_count": 5,
   "id": "3f3ef72b",
   "metadata": {
    "id": "3f3ef72b",
    "scrolled": false
   },
   "outputs": [],
   "source": [
    "df_2021 = read_file_to_dataframe('../data/team_b_2021.xlsx')\n",
    "df_2020 = read_file_to_dataframe('../data/team_b_2020.xlsx')\n",
    "\n",
    "start = 100\n",
    "end = 250\n",
    "\n",
    "#player_id = 'fe57ef2a-c493-4620-b5e0-5826af7d9963'\n",
    "player_id = \"c05a3d40-e305-4cca-883c-c6e7bffd388f\"\n",
    "\n",
    "df_2020 = pd.DataFrame.from_dict(df_2020['Readiness'].astype(float))\n",
    "df_2021 = pd.DataFrame.from_dict(df_2021['Readiness'].astype(float))\n",
    "\n",
    "df_2020_test = df_2020[player_id].iloc[start:end]\n",
    "df_2021_test = df_2021[player_id].iloc[start:end]\n",
    "\n",
    "df_2020_train = df_2020[player_id]\n",
    "df_2021_train = df_2020[player_id]\n",
    "\n",
    "df_two_years_test = pd.concat([df_2020_test, df_2021_test], axis=1)\n",
    "\n",
    "df_2020.drop(df_2020.index[start:end], inplace=True)\n",
    "df_2021.drop(df_2021.index[start:end], inplace=True)\n",
    "\n",
    "df_two_years_train = pd.concat([df_2020, df_2021], axis=1)\n",
    "\n",
    "df_two_years = pd.concat([df_2020, df_2021])\n",
    "df_two_years_train = df_two_years.melt().drop('variable',axis=1).dropna()\n",
    "df_two_years_train.index = df_two_years_train.index + 1\n",
    "\n",
    "df_two_years_test = pd.concat([df_2021_test])\n",
    "\n",
    "epoch = 30\n",
    "batch_size = 5\n",
    "n_splits = 1\n",
    "shuffle = False\n",
    "predictionWindowSize = 1"
   ]
  },
  {
   "cell_type": "markdown",
   "id": "9f1cb072",
   "metadata": {
    "id": "9f1cb072"
   },
   "source": [
    "### Two years"
   ]
  },
  {
   "cell_type": "code",
   "execution_count": null,
   "id": "a2a209b0",
   "metadata": {
    "colab": {
     "base_uri": "https://localhost:8080/",
     "height": 1000
    },
    "id": "a2a209b0",
    "outputId": "c88f413a-90f4-4989-9d7c-38e4c91c6799",
    "scrolled": false
   },
   "outputs": [
    {
     "data": {
      "image/png": "[encoded data removed]",
      "text/plain": [
       "<Figure size 1152x36 with 1 Axes>"
      ]
     },
     "metadata": {
      "needs_background": "light"
     },
     "output_type": "display_data"
    },
    {
     "data": {
      "text/html": [],
      "text/plain": [
       "<IPython.core.display.HTML object>"
      ]
     },
     "metadata": {},
     "output_type": "display_data"
    },
    {
     "data": {
      "text/html": [
       "\n",
       "    <div>\n",
       "        <style>\n",
       "            /* Turns off some styling */\n",
       "            progress {\n",
       "                /* gets rid of default border in Firefox and Opera. */\n",
       "                border: none;\n",
       "                /* Needs to be in here for Safari polyfill so background images work as expected. */\n",
       "                background-size: auto;\n",
       "            }\n",
       "            .progress-bar-interrupted, .progress-bar-interrupted::-webkit-progress-bar {\n",
       "                background: #F44336;\n",
       "            }\n",
       "        </style>\n",
       "      <progress value='3' class='' max='30' style='width:300px; height:20px; vertical-align: middle;'></progress>\n",
       "      10.00% [3/30 00:53<08:02]\n",
       "    </div>\n",
       "    \n",
       "<table border=\"1\" class=\"dataframe\">\n",
       "  <thead>\n",
       "    <tr style=\"text-align: left;\">\n",
       "      <th>epoch</th>\n",
       "      <th>train_loss</th>\n",
       "      <th>valid_loss</th>\n",
       "      <th>mse</th>\n",
       "      <th>time</th>\n",
       "    </tr>\n",
       "  </thead>\n",
       "  <tbody>\n",
       "    <tr>\n",
       "      <td>0</td>\n",
       "      <td>0.842459</td>\n",
       "      <td>0.867849</td>\n",
       "      <td>0.867849</td>\n",
       "      <td>00:15</td>\n",
       "    </tr>\n",
       "    <tr>\n",
       "      <td>1</td>\n",
       "      <td>0.753318</td>\n",
       "      <td>0.949425</td>\n",
       "      <td>0.949425</td>\n",
       "      <td>00:19</td>\n",
       "    </tr>\n",
       "    <tr>\n",
       "      <td>2</td>\n",
       "      <td>0.709603</td>\n",
       "      <td>1.070723</td>\n",
       "      <td>1.070723</td>\n",
       "      <td>00:17</td>\n",
       "    </tr>\n",
       "  </tbody>\n",
       "</table><p>\n",
       "\n",
       "    <div>\n",
       "        <style>\n",
       "            /* Turns off some styling */\n",
       "            progress {\n",
       "                /* gets rid of default border in Firefox and Opera. */\n",
       "                border: none;\n",
       "                /* Needs to be in here for Safari polyfill so background images work as expected. */\n",
       "                background-size: auto;\n",
       "            }\n",
       "            .progress-bar-interrupted, .progress-bar-interrupted::-webkit-progress-bar {\n",
       "                background: #F44336;\n",
       "            }\n",
       "        </style>\n",
       "      <progress value='1601' class='' max='1785' style='width:300px; height:20px; vertical-align: middle;'></progress>\n",
       "      89.69% [1601/1785 00:13<00:01 0.7188]\n",
       "    </div>\n",
       "    "
      ],
      "text/plain": [
       "<IPython.core.display.HTML object>"
      ]
     },
     "metadata": {},
     "output_type": "display_data"
    },
    {
     "data": {
      "image/png": "[encoded data removed]",
      "text/plain": [
       "<Figure size 432x288 with 1 Axes>"
      ]
     },
     "metadata": {},
     "output_type": "display_data"
    }
   ],
   "source": [
    "trainingWindowSize = 21\n",
    "\n",
    "training_set = df_two_years_train\n",
    "test_dataset = df_two_years_test\n",
    "\n",
    "model_file_name = 'epoch_4_bs_5_input_21_output_1'\n",
    "model_path = Path('./models/{}.pkl'.format(model_file_name))\n",
    "\n",
    "\n",
    "train_and_save_model(training_set, trainingWindowSize, predictionWindowSize, batch_size,\n",
    "                       epoch, n_splits, shuffle, model_file_name)\n",
    "\n",
    "predict_readiness(trainingWindowSize, predictionWindowSize, test_set, model_path)"
   ]
  },
  {
   "cell_type": "code",
   "execution_count": null,
   "id": "917dc01c",
   "metadata": {
    "colab": {
     "base_uri": "https://localhost:8080/",
     "height": 1000
    },
    "id": "917dc01c",
    "outputId": "7d39764d-2961-445e-ac0c-7b373dbbabf2",
    "scrolled": false
   },
   "outputs": [],
   "source": [
    "trainingWindowSize = 14\n",
    "\n",
    "training_set = df_two_years_train\n",
    "test_dataset = df_two_years_test\n",
    "\n",
    "model_file_name = 'epoch_4_bs_5_input_21_output_1'\n",
    "model_path = Path('./models/{}.pkl'.format(model_file_name))\n",
    "\n",
    "\n",
    "train_and_save_model(training_set, trainingWindowSize, predictionWindowSize, batch_size,\n",
    "                       epoch, n_splits, shuffle, model_file_name)\n",
    "\n",
    "predict_readiness(trainingWindowSize, predictionWindowSize, test_set, model_path)"
   ]
  },
  {
   "cell_type": "code",
   "execution_count": null,
   "id": "b72ec1d0",
   "metadata": {
    "colab": {
     "base_uri": "https://localhost:8080/",
     "height": 236
    },
    "id": "b72ec1d0",
    "outputId": "e979ddba-ed64-4ab0-fe85-fa72808a665d",
    "scrolled": false
   },
   "outputs": [],
   "source": [
    "trainingWindowSize = 7\n",
    "\n",
    "training_set = df_two_years_test\n",
    "test_dataset = df_two_years_train\n",
    "\n",
    "model_file_name = 'epoch_4_bs_5_input_21_output_1'\n",
    "model_path = Path('./models/{}.pkl'.format(model_file_name))\n",
    "\n",
    "\n",
    "train_and_save_model(training_set, trainingWindowSize, predictionWindowSize, batch_size,\n",
    "                       epoch, n_splits, shuffle, model_file_name)\n",
    "\n",
    "predict_readiness(trainingWindowSize, predictionWindowSize, test_set, model_path)"
   ]
  },
  {
   "cell_type": "markdown",
   "id": "a33bd08b",
   "metadata": {
    "id": "a33bd08b"
   },
   "source": [
    "### One year"
   ]
  },
  {
   "cell_type": "markdown",
   "id": "21bccff6",
   "metadata": {
    "id": "21bccff6"
   },
   "source": [
    "### 2020"
   ]
  },
  {
   "cell_type": "code",
   "execution_count": null,
   "id": "d3616f25",
   "metadata": {
    "colab": {
     "base_uri": "https://localhost:8080/",
     "height": 1000
    },
    "id": "d3616f25",
    "outputId": "c255c520-ea51-4a42-b0be-5e584ebe25cb",
    "scrolled": false
   },
   "outputs": [],
   "source": [
    "trainingWindowSize = 7\n",
    "\n",
    "training_set = df_2020_train\n",
    "test_dataset = df_2020_test\n",
    "\n",
    "predict_readiness(training_set, trainingWindowSize, predictionWindowSize, \n",
    "                  batch_size, epoch, n_splits, shuffle, test_dataset)"
   ]
  },
  {
   "cell_type": "code",
   "execution_count": null,
   "id": "0b35d1b0",
   "metadata": {
    "colab": {
     "base_uri": "https://localhost:8080/",
     "height": 1000
    },
    "id": "0b35d1b0",
    "outputId": "b2f76c3a-58c9-4010-c1fc-53306fba0c94",
    "scrolled": false
   },
   "outputs": [],
   "source": [
    "trainingWindowSize = 14\n",
    "\n",
    "training_set = df_2020_train\n",
    "test_dataset = df_2020_test\n",
    "\n",
    "model_file_name = 'epoch_4_bs_5_input_21_output_1'\n",
    "model_path = Path('./models/{}.pkl'.format(model_file_name))\n",
    "\n",
    "\n",
    "train_and_save_model(training_set, trainingWindowSize, predictionWindowSize, batch_size,\n",
    "                       epoch, n_splits, shuffle, model_file_name)\n",
    "\n",
    "predict_readiness(trainingWindowSize, predictionWindowSize, test_set, model_path)"
   ]
  },
  {
   "cell_type": "code",
   "execution_count": null,
   "id": "5efbce65",
   "metadata": {
    "colab": {
     "base_uri": "https://localhost:8080/",
     "height": 1000
    },
    "id": "5efbce65",
    "outputId": "f750dd91-748e-4d68-e7bd-58d607422404",
    "scrolled": false
   },
   "outputs": [],
   "source": [
    "trainingWindowSize = 21\n",
    "\n",
    "training_set = df_2020_train\n",
    "test_dataset = df_2020_test\n",
    "\n",
    "model_file_name = 'epoch_4_bs_5_input_21_output_1'\n",
    "model_path = Path('./models/{}.pkl'.format(model_file_name))\n",
    "\n",
    "\n",
    "train_and_save_model(training_set, trainingWindowSize, predictionWindowSize, batch_size,\n",
    "                       epoch, n_splits, shuffle, model_file_name)\n",
    "\n",
    "predict_readiness(trainingWindowSize, predictionWindowSize, test_set, model_path)"
   ]
  },
  {
   "cell_type": "markdown",
   "id": "e7660e1b",
   "metadata": {
    "id": "e7660e1b"
   },
   "source": [
    "### 2021"
   ]
  },
  {
   "cell_type": "code",
   "execution_count": null,
   "id": "44edd569",
   "metadata": {
    "colab": {
     "base_uri": "https://localhost:8080/",
     "height": 236
    },
    "id": "44edd569",
    "outputId": "bb302d1b-ab62-455d-d238-07e7f6144713",
    "scrolled": false
   },
   "outputs": [],
   "source": [
    "trainingWindowSize = 7\n",
    "\n",
    "training_set = df_2021_train\n",
    "test_dataset = df_2021_test\n",
    "\n",
    "model_file_name = 'epoch_4_bs_5_input_21_output_1'\n",
    "model_path = Path('./models/{}.pkl'.format(model_file_name))\n",
    "\n",
    "\n",
    "train_and_save_model(training_set, trainingWindowSize, predictionWindowSize, batch_size,\n",
    "                       epoch, n_splits, shuffle, model_file_name)\n",
    "\n",
    "predict_readiness(trainingWindowSize, predictionWindowSize, test_set, model_path)"
   ]
  },
  {
   "cell_type": "code",
   "execution_count": null,
   "id": "a5f52d0d",
   "metadata": {
    "colab": {
     "base_uri": "https://localhost:8080/",
     "height": 1000
    },
    "id": "a5f52d0d",
    "outputId": "a39723e0-76be-47d3-c7dc-375757a79e10",
    "scrolled": false
   },
   "outputs": [],
   "source": [
    "trainingWindowSize = 14\n",
    "\n",
    "training_set = df_2021_train\n",
    "test_dataset = df_2021_test\n",
    "\n",
    "model_file_name = 'epoch_4_bs_5_input_21_output_1'\n",
    "model_path = Path('./models/{}.pkl'.format(model_file_name))\n",
    "\n",
    "\n",
    "train_and_save_model(training_set, trainingWindowSize, predictionWindowSize, batch_size,\n",
    "                       epoch, n_splits, shuffle, model_file_name)\n",
    "\n",
    "predict_readiness(trainingWindowSize, predictionWindowSize, test_set, model_path)"
   ]
  },
  {
   "cell_type": "code",
   "execution_count": null,
   "id": "3cb3433a",
   "metadata": {
    "colab": {
     "base_uri": "https://localhost:8080/",
     "height": 1000
    },
    "id": "3cb3433a",
    "outputId": "2a1a86e5-f904-4419-c965-dd01fe7ec9aa",
    "scrolled": false
   },
   "outputs": [],
   "source": [
    "trainingWindowSize = 21\n",
    "\n",
    "training_set = df_2021_train\n",
    "test_dataset = df_2021_test\n",
    "\n",
    "model_file_name = 'epoch_4_bs_5_input_21_output_1'\n",
    "model_path = Path('./models/{}.pkl'.format(model_file_name))\n",
    "\n",
    "\n",
    "train_and_save_model(training_set, trainingWindowSize, predictionWindowSize, batch_size,\n",
    "                       epoch, n_splits, shuffle, model_file_name)\n",
    "\n",
    "predict_readiness(trainingWindowSize, predictionWindowSize, test_set, model_path)"
   ]
  }
 ],
 "metadata": {
  "colab": {
   "collapsed_sections": [],
   "name": "ONE_PLAYER_TEAM_B.ipynb",
   "provenance": [],
   "toc_visible": true
  },
  "kernelspec": {
   "display_name": "Python 3 (ipykernel)",
   "language": "python",
   "name": "python3"
  },
  "language_info": {
   "codemirror_mode": {
    "name": "ipython",
    "version": 3
   },
   "file_extension": ".py",
   "mimetype": "text/x-python",
   "name": "python",
   "nbconvert_exporter": "python",
   "pygments_lexer": "ipython3",
   "version": "3.9.7"
  }
 },
 "nbformat": 4,
 "nbformat_minor": 5
}
